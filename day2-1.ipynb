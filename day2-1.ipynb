{
 "cells": [
  {
   "cell_type": "code",
   "execution_count": null,
   "id": "cc8fd711",
   "metadata": {},
   "outputs": [],
   "source": [
    "# %%\n",
    "# 1. 依赖\n",
    "import torch\n",
    "import numpy as np\n",
    "from matplotlib import pyplot as plt\n",
    "\n",
    "print(\"PyTorch version:\", torch.__version__)"
   ]
  },
  {
   "cell_type": "code",
   "execution_count": null,
   "id": "9d93ac31",
   "metadata": {},
   "outputs": [],
   "source": [
    "# %%\n",
    "# 2. 载入 CIFAR-10 数据（包含 10 类 32×32 彩色图）\n",
    "from torchvision import datasets, transforms\n",
    "\n",
    "# CIFAR 的 .data 属性是 numpy 数组，形状 (N, 32, 32, 3)\n",
    "train_dataset = datasets.CIFAR10(root='./data', train=True,  download=True)\n",
    "test_dataset  = datasets.CIFAR10(root='./data', train=False, download=True)\n",
    "\n",
    "train_images, train_labels = train_dataset.data, train_dataset.targets\n",
    "test_images , test_labels  = test_dataset.data , test_dataset.targets"
   ]
  },
  {
   "cell_type": "code",
   "execution_count": null,
   "id": "38634227",
   "metadata": {},
   "outputs": [],
   "source": [
    "# %%\n",
    "# 3. 数据概览 —— 查看形状 / 标签 / 一张示例图\n",
    "print(\"Train images shape:\", train_images.shape)   # (50000, 32, 32, 3)\n",
    "print(\"Train labels shape:\", len(train_labels))    # 50000\n",
    "class_names = train_dataset.classes                # ['airplane', 'automobile', …]\n",
    "\n",
    "plt.figure()\n",
    "plt.imshow(train_images[0])        # 直接可视化\n",
    "plt.title(f\"Label: {class_names[train_labels[0]]}\")\n",
    "plt.axis(False)\n",
    "plt.show()"
   ]
  },
  {
   "cell_type": "code",
   "execution_count": null,
   "id": "07420822",
   "metadata": {},
   "outputs": [],
   "source": [
    "# %%\n",
    "# 4. 预处理与 DataLoader\n",
    "#    (a) 归一化到 [0,1] 并转为 torch.float32\n",
    "#    (b) 调整通道顺序 (H,W,C) → (C,H,W) 以符合 PyTorch\n",
    "#    (c) 打包为 TensorDataset，再用 DataLoader\n",
    "\n",
    "# helper：numpy → tensor，并归一化\n",
    "def np_to_tensor(images_np):\n",
    "    imgs = torch.from_numpy(images_np).permute(0, 3, 1, 2)     # (N,3,32,32)\n",
    "    imgs = imgs.float() / 255.0                                # 0-1\n",
    "    return imgs\n",
    "\n",
    "train_images_t = np_to_tensor(train_images)\n",
    "test_images_t  = np_to_tensor(test_images)\n",
    "\n",
    "train_labels_t = torch.tensor(train_labels, dtype=torch.long)\n",
    "test_labels_t  = torch.tensor(test_labels , dtype=torch.long)\n",
    "\n",
    "from torch.utils.data import TensorDataset, DataLoader\n",
    "batch_size = 64\n",
    "train_loader = DataLoader(TensorDataset(train_images_t, train_labels_t),\n",
    "                          batch_size=batch_size, shuffle=True)\n",
    "test_loader  = DataLoader(TensorDataset(test_images_t , test_labels_t ),\n",
    "                          batch_size=batch_size, shuffle=False)"
   ]
  },
  {
   "cell_type": "code",
   "execution_count": null,
   "id": "1b21054c",
   "metadata": {},
   "outputs": [],
   "source": [
    "# %%\n",
    "# 5. 构建一个简单 CNN\n",
    "import torch.nn as nn\n",
    "\n",
    "class CIFAR10Model(nn.Module):\n",
    "    def __init__(self):\n",
    "        super().__init__()\n",
    "        self.conv1 = nn.Conv2d(3, 32, kernel_size=3)      # 32×30×30\n",
    "        self.conv2 = nn.Conv2d(32, 64, kernel_size=3)     # 64×28×28\n",
    "        self.conv3 = nn.Conv2d(64, 64, kernel_size=3)     # 64×26×26\n",
    "        self.pool  = nn.MaxPool2d(2, 2)                   # /2\n",
    "        self.relu  = nn.ReLU()\n",
    "        self.flatten = nn.Flatten()\n",
    "        self.fc1  = nn.Linear(64*4*4, 128)                # 经过两次池化和三次卷积\n",
    "        self.fc2  = nn.Linear(128, 10)\n",
    "\n",
    "    def forward(self, x):\n",
    "        x = self.relu(self.conv1(x))      # 32×30×30\n",
    "        x = self.pool(x)                  # 32×15×15\n",
    "        x = self.relu(self.conv2(x))      # 64×13×13\n",
    "        x = self.pool(x)                  # 64×6×6\n",
    "        x = self.relu(self.conv3(x))      # 64×4×4\n",
    "        x = self.flatten(x)               # 64*4*4\n",
    "        x = self.relu(self.fc1(x))\n",
    "        x = self.fc2(x)                   # logits\n",
    "        return x\n",
    "\n",
    "device = torch.device(\"cuda\" if torch.cuda.is_available() else \"cpu\")\n",
    "model  = CIFAR10Model().to(device)"
   ]
  },
  {
   "cell_type": "code",
   "execution_count": null,
   "id": "cb39d1f5",
   "metadata": {},
   "outputs": [],
   "source": [
    "# %%\n",
    "# 6. 优化器、损失函数、准确率指标\n",
    "import torch.optim as optim\n",
    "from torchmetrics import Accuracy\n",
    "\n",
    "optimizer = optim.Adam(model.parameters(), lr=1e-3)\n",
    "loss_fn   = nn.CrossEntropyLoss()\n",
    "acc_metric = Accuracy(task=\"multiclass\", num_classes=10)"
   ]
  },
  {
   "cell_type": "code",
   "execution_count": null,
   "id": "2781c1a8",
   "metadata": {},
   "outputs": [],
   "source": [
    "# %%\n",
    "# 7. 训练单个 epoch 的函数\n",
    "def train_epoch(model, loader, optimizer, loss_fn, acc_metric, device):\n",
    "    model.train()\n",
    "    epoch_loss = epoch_acc = 0.0\n",
    "    for x, y in loader:\n",
    "        x, y = x.to(device), y.to(device)\n",
    "        optimizer.zero_grad()\n",
    "        outputs = model(x)\n",
    "        loss = loss_fn(outputs, y)\n",
    "        loss.backward()\n",
    "        optimizer.step()\n",
    "\n",
    "        epoch_loss += loss.item() * x.size(0)\n",
    "        preds = outputs.argmax(1)\n",
    "        epoch_acc += acc_metric(preds.cpu(), y.cpu()) * x.size(0)\n",
    "    size = len(loader.dataset)\n",
    "    return epoch_loss/size, epoch_acc/size"
   ]
  },
  {
   "cell_type": "code",
   "execution_count": null,
   "id": "451401e7",
   "metadata": {},
   "outputs": [],
   "source": [
    "# %%\n",
    "# 8. 测试函数\n",
    "def evaluate(model, loader, loss_fn, acc_metric, device):\n",
    "    model.eval()\n",
    "    epoch_loss = epoch_acc = 0.0\n",
    "    with torch.no_grad():\n",
    "        for x, y in loader:\n",
    "            x, y = x.to(device), y.to(device)\n",
    "            outputs = model(x)\n",
    "            loss = loss_fn(outputs, y)\n",
    "\n",
    "            epoch_loss += loss.item() * x.size(0)\n",
    "            preds = outputs.argmax(1)\n",
    "            epoch_acc += acc_metric(preds.cpu(), y.cpu()) * x.size(0)\n",
    "    size = len(loader.dataset)\n",
    "    return epoch_loss/size, epoch_acc/size"
   ]
  },
  {
   "cell_type": "code",
   "execution_count": null,
   "id": "7df27e60",
   "metadata": {},
   "outputs": [],
   "source": [
    "# %%\n",
    "# 9. 训练循环\n",
    "num_epochs = 10\n",
    "for epoch in range(num_epochs):\n",
    "    train_loss, train_acc = train_epoch(model, train_loader,\n",
    "                                        optimizer, loss_fn, acc_metric, device)\n",
    "    print(f\"Epoch {epoch+1:2d}/{num_epochs} | \"\n",
    "          f\"Train Loss: {train_loss:.4f} | Train Acc: {train_acc:.4f}\")"
   ]
  },
  {
   "cell_type": "code",
   "execution_count": null,
   "id": "66dd0388",
   "metadata": {},
   "outputs": [],
   "source": [
    "# %%\n",
    "# 🔟 评估\n",
    "test_loss, test_acc = evaluate(model, test_loader,\n",
    "                               loss_fn, acc_metric, device)\n",
    "print(f\"Test  Loss: {test_loss:.4f} | Test  Acc: {test_acc:.4f}\")"
   ]
  },
  {
   "cell_type": "code",
   "execution_count": null,
   "id": "eefc42a7",
   "metadata": {},
   "outputs": [],
   "source": [
    "# %%\n",
    "# 11. Softmax 概率，用于可视化\n",
    "probability_model = nn.Sequential(model, nn.Softmax(dim=1)).eval()\n",
    "\n",
    "with torch.no_grad():\n",
    "    test_probs = probability_model(test_images_t.to(device)).cpu().numpy()"
   ]
  },
  {
   "cell_type": "code",
   "execution_count": null,
   "id": "9229ddc9",
   "metadata": {},
   "outputs": [],
   "source": [
    "# %%\n",
    "# 12. 可视化函数（与 Fashion-MNIST 部分一致）\n",
    "def plot_image(i, probs, true_label, img):\n",
    "    true_label, img = true_label[i], img[i]\n",
    "    plt.grid(False); plt.xticks([]); plt.yticks([])\n",
    "    plt.imshow(img)\n",
    "    pred = np.argmax(probs)\n",
    "    color = 'blue' if pred == true_label else 'red'\n",
    "    plt.xlabel(\"{} {:2.0f}% ({})\".format(class_names[pred],\n",
    "               100*np.max(probs), class_names[true_label]), color=color)\n",
    "\n",
    "def plot_value_array(i, probs, true_label):\n",
    "    true_label = true_label[i]\n",
    "    plt.grid(False); plt.xticks(range(10)); plt.yticks([])\n",
    "    bars = plt.bar(range(10), probs, color=\"#777777\")\n",
    "    plt.ylim([0, 1])\n",
    "    pred = np.argmax(probs)\n",
    "    bars[pred].set_color('red')\n",
    "    bars[true_label].set_color('blue')"
   ]
  },
  {
   "cell_type": "code",
   "execution_count": null,
   "id": "a132ae6f",
   "metadata": {},
   "outputs": [],
   "source": [
    "# %%\n",
    "# 13. 单张预测示例\n",
    "i = 0\n",
    "plt.figure(figsize=(6,3))\n",
    "plt.subplot(1,2,1); plot_image(i, test_probs[i], test_labels, test_images)\n",
    "plt.subplot(1,2,2); plot_value_array(i, test_probs[i], test_labels)\n",
    "plt.show()"
   ]
  },
  {
   "cell_type": "code",
   "execution_count": null,
   "id": "f9f0244b",
   "metadata": {},
   "outputs": [],
   "source": [
    "# %%\n",
    "# 14. 多张可视化\n",
    "num_rows, num_cols = 4, 4\n",
    "num_images = num_rows * num_cols\n",
    "plt.figure(figsize=(2*2*num_cols, 2*num_rows))\n",
    "for i in range(num_images):\n",
    "    plt.subplot(num_rows, 2*num_cols, 2*i+1)\n",
    "    plot_image(i, test_probs[i], test_labels, test_images)\n",
    "    plt.subplot(num_rows, 2*num_cols, 2*i+2)\n",
    "    plot_value_array(i, test_probs[i], test_labels)\n",
    "plt.tight_layout()\n",
    "plt.show()"
   ]
  }
 ],
 "metadata": {
  "language_info": {
   "name": "python"
  }
 },
 "nbformat": 4,
 "nbformat_minor": 5
}
